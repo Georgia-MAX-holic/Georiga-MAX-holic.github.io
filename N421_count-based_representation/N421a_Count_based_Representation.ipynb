{
  "cells": [
    {
      "cell_type": "markdown",
      "metadata": {
        "id": "za56W96DnxVC"
      },
      "source": [
        "<img align=\"right\" src=\"https://ds-cs-images.s3.ap-northeast-2.amazonaws.com/Codestates_Fulllogo_Color.png\" width=100>\n",
        "\n",
        "## *AIB / SECTION 4 / SPRINT 2 / NOTE 1*\n",
        "\n",
        "# 📝 Assignment\n",
        "\n",
        "---\n",
        "\n",
        "\n",
        "# Count-based_Representation"
      ]
    },
    {
      "cell_type": "markdown",
      "metadata": {
        "id": "68CzOVminxVR"
      },
      "source": [
        "indeed.com 에서 Data Scientist 키워드로 Job descrition을 찾아 스크래핑한 데이터를 이용해 과제를 진행해 보겠습니다.\n",
        "\n",
        "[Data_Scienties.csv](https://ds-lecture-data.s3.ap-northeast-2.amazonaws.com/indeed/Data_Scientist.csv) 파일에는 1300여개의 Data Scientist job description 정보가 담겨 있습니다."
      ]
    },
    {
      "cell_type": "markdown",
      "metadata": {
        "id": "Fon1gvE36a9Q"
      },
      "source": [
        "## 1. 데이터 전처리 (Text preprocessing)"
      ]
    },
    {
      "cell_type": "code",
      "execution_count": 2,
      "metadata": {
        "id": "cnvZzxM4EVMh"
      },
      "outputs": [],
      "source": [
        "import re\n",
        "import string\n",
        "\n",
        "import numpy as np\n",
        "import pandas as pd\n",
        "import matplotlib.pyplot as plt"
      ]
    },
    {
      "cell_type": "markdown",
      "metadata": {
        "id": "U1w7-dwwF5rW"
      },
      "source": [
        "### 0) 텍스트 분석에 앞서 데이터 전처리를 진행합니다."
      ]
    },
    {
      "cell_type": "markdown",
      "metadata": {
        "id": "3Omo3_B1FT_I"
      },
      "source": [
        "- 파일을 불러온 후 title, company, description 에 해당하는 Column만 남겨주세요.\n",
        "- 중복값을 제거하세요."
      ]
    },
    {
      "cell_type": "code",
      "execution_count": 6,
      "metadata": {
        "id": "IwdNT6hmEPhq",
        "outputId": "f6176d0b-f768-4e10-c6ac-785fe4db764e",
        "colab": {
          "base_uri": "https://localhost:8080/"
        }
      },
      "outputs": [
        {
          "output_type": "stream",
          "name": "stdout",
          "text": [
            "0       False\n",
            "1        True\n",
            "2       False\n",
            "3        True\n",
            "4       False\n",
            "        ...  \n",
            "1295    False\n",
            "1296     True\n",
            "1297    False\n",
            "1298     True\n",
            "1299    False\n",
            "Length: 1300, dtype: bool\n",
            "(757, 3)\n"
          ]
        }
      ],
      "source": [
        "df = pd.read_csv('https://ds-lecture-data.s3.ap-northeast-2.amazonaws.com/indeed/Data_Scientist.csv')\n",
        "\n",
        "\n",
        "# title, company, description column\n",
        "pre_df = df[['title', 'company', 'description']]\n",
        "\n",
        "# delete duplicates\n",
        "print(pre_df.duplicated())\n",
        "pre_df = pre_df.drop_duplicates()\n",
        "\n",
        "print(pre_df.shape)\n",
        "\n"
      ]
    },
    {
      "cell_type": "markdown",
      "metadata": {
        "id": "JepbPJw5nxVT"
      },
      "source": [
        "### 1) 토큰을 정제합니다."
      ]
    },
    {
      "cell_type": "markdown",
      "metadata": {
        "id": "8Mq6oYCdQ0cZ"
      },
      "source": [
        "- 문자를 소문자로 통일\n",
        "- 분석에 관련 없는 정보 제거\n",
        "- 이번 과제는 `spacy` 로부터 `\"en_core_web_sm\"` 을 로드하여 진행해주세요.\n",
        "\n",
        "- **문항 1) 대문자를 소문자로 변경하는 함수를 입력하세요.**\n",
        "- **문항 2) 정규 표현식을 사용하여 re 라이브러리에서 알파벳 소문자, 숫자만 받을 수 있는 코드를 작성하세요.**"
      ]
    },
    {
      "cell_type": "code",
      "execution_count": 7,
      "metadata": {
        "id": "_VBRkXS6nxVT",
        "outputId": "c4af0d57-5d15-4da4-d7a1-84065e2a4e21",
        "colab": {
          "base_uri": "https://localhost:8080/"
        }
      },
      "outputs": [
        {
          "output_type": "stream",
          "name": "stdout",
          "text": [
            "tl;dr\n",
            "tl;dr\n",
            "tldr\n"
          ]
        }
      ],
      "source": [
        "import spacy\n",
        "from spacy.tokenizer import Tokenizer\n",
        "\n",
        "nlp = spacy.load(\"en_core_web_sm\")\n",
        "tokenizer = Tokenizer(nlp.vocab)\n",
        "\n",
        "def refine(sentence):\n",
        "    \n",
        "    # lowercase\n",
        "    sentence = sentence.lower()\n",
        "    \n",
        "    # apply regex\n",
        "    sentence = re.sub(r\"[^a-z0-9 ]\", \"\", sentence)\n",
        "\n",
        "    return sentence\n",
        "\n",
        "last_desc = pre_df['description'][-1:].values[0]\n",
        "#print(last_desc[0])\n",
        "\n",
        "tokens = tokenizer(last_desc)\n",
        "#print(tokens)\n",
        "print(tokens[0])\n",
        "\n",
        "doc = nlp(last_desc)\n",
        "#print(doc)\n",
        "print(doc[0])\n",
        "\n",
        "last_desc = refine(doc[0].text)\n",
        "print(last_desc)"
      ]
    },
    {
      "cell_type": "markdown",
      "metadata": {
        "id": "RdgRqlzsnxVT"
      },
      "source": [
        "### 2) 정제한 토큰을 시각화 합니다."
      ]
    },
    {
      "cell_type": "markdown",
      "metadata": {
        "id": "sOobV051OOsv"
      },
      "source": [
        "- Top 10 토큰을 프린트 합니다.\n",
        "- 토큰의 수, 빈도 순위, 존재 문서 수, 비율 등 정보를 계산합니다.\n",
        "- 토큰 순위에 따른 퍼센트 누적 분포 그래프를 시각화합니다.\n",
        "\n",
        "- **문항 3) 추천 토큰 순위 10개 단어를 입력하세요.**"
      ]
    },
    {
      "cell_type": "code",
      "execution_count": null,
      "metadata": {
        "id": "3Gk8_RIxcWKS"
      },
      "outputs": [],
      "source": [
        "def resub(desc):\n",
        "    desc = desc.lower()\n",
        "#    desc = desc.replace(\"\\n\", \" \")\n",
        "    desc = re.sub(r\"\\n\", \" \", desc)\n",
        "    desc = re.sub(r\"[^a-z0-9 ]\", \"\", desc)\n",
        "\n",
        "    tokens = desc.split()\n",
        "    return tokens\n",
        "\n",
        "#pre_df['tokens'] = pre_df['description'].apply(tokenizer)\n",
        "pre_df['tokens'] = pre_df['description'].apply(resub)\n",
        "#pre_df['tokens'] = pre_df['tokens'].apply(tokenizer)   # 도대체 왜 안되는걸까... 후..... \n",
        "#pre_df['tokens'] = pre_df['tokens'].apply(list)\n",
        "\n",
        "#pre_df['description'].head()\n",
        "pre_df['tokens'].head()\n",
        "\n",
        "#pre_df.head()"
      ]
    },
    {
      "cell_type": "code",
      "source": [
        "from collections import Counter\n",
        "\n",
        "word_counts = Counter()\n",
        "\n",
        "pre_df['tokens'].apply(lambda x: word_counts.update(x))  # -> lambda 좀 더 익숙해지기\n",
        "\n",
        "## Top 10 tokens\n",
        "word_counts.most_common(10)"
      ],
      "metadata": {
        "id": "rUyxpfD2yjyg",
        "outputId": "30ad8105-82b8-4717-fbd9-3b502d05c650",
        "colab": {
          "base_uri": "https://localhost:8080/"
        }
      },
      "execution_count": 10,
      "outputs": [
        {
          "output_type": "execute_result",
          "data": {
            "text/plain": [
              "[('and', 21863),\n",
              " ('to', 12694),\n",
              " ('the', 10538),\n",
              " ('of', 8839),\n",
              " ('data', 7425),\n",
              " ('in', 6769),\n",
              " ('a', 6436),\n",
              " ('with', 5727),\n",
              " ('for', 4132),\n",
              " ('or', 3812)]"
            ]
          },
          "metadata": {},
          "execution_count": 10
        }
      ]
    },
    {
      "cell_type": "code",
      "source": [
        "## 토큰의 수, 빈도 순위, 존재 문서 수, 비율 등 정보 계산\n",
        "def word_count(docs):\n",
        "    w_counts = Counter()\n",
        "    w_in_docs = Counter()\n",
        "    total_docs = len(docs)\n",
        "\n",
        "    for doc in docs:\n",
        "        w_counts.update(doc)\n",
        "        w_in_docs.update(set(doc))\n",
        "    \n",
        "    temp = zip(w_counts.keys(), w_counts.values())   # zip 좀 더 파악하기\n",
        "    wc = pd.DataFrame(temp, columns=['word', 'count'])\n",
        "\n",
        "    return wc\n",
        "\n",
        "#wc = word_count(df['tokens'])\n",
        "#wc.head()"
      ],
      "metadata": {
        "id": "ILxnPsz5ymqS"
      },
      "execution_count": 11,
      "outputs": []
    },
    {
      "cell_type": "code",
      "source": [
        "## 토큰 순위에 따른 퍼센트 누적 분포 그래프 시각화\n",
        "import seaborn as sns"
      ],
      "metadata": {
        "id": "uAU9ot8FyqN0"
      },
      "execution_count": 12,
      "outputs": []
    },
    {
      "cell_type": "markdown",
      "metadata": {
        "id": "sURsv85FnxVU"
      },
      "source": [
        "### 4) 확장된 불용어 사전을 사용해 토큰을 정제합니다.\n"
      ]
    },
    {
      "cell_type": "markdown",
      "metadata": {
        "id": "d4FW5bGjRHb4"
      },
      "source": [
        "- **문항 4) 기본 불용어 사전에 두 단어(`\"data\", \"work\"`)를 추가하는 코드를 사용해주세요.**\n",
        "- **문항 5) 불용어를 제거하고 난 뒤 토큰 순위 10개의 단어를 입력하세요.**"
      ]
    },
    {
      "cell_type": "code",
      "execution_count": 13,
      "metadata": {
        "id": "yuxNolYCcWrv",
        "outputId": "33711603-6de4-4489-e89d-ead075c608ff",
        "colab": {
          "base_uri": "https://localhost:8080/"
        }
      },
      "outputs": [
        {
          "output_type": "execute_result",
          "data": {
            "text/plain": [
              "[('experience', 3055),\n",
              " ('business', 1885),\n",
              " ('team', 1323),\n",
              " ('learning', 1193),\n",
              " ('machine', 1140),\n",
              " ('science', 1048),\n",
              " ('ability', 958),\n",
              " ('analysis', 896),\n",
              " ('statistical', 890),\n",
              " ('skills', 886)]"
            ]
          },
          "metadata": {},
          "execution_count": 13
        }
      ],
      "source": [
        "\n",
        "\n",
        "#nlp.Defaults.stop_words\n",
        "\n",
        "## add \"data\", \"work\" to stop_words\n",
        "Stop_Words = nlp.Defaults.stop_words.union(['data', 'work'])\n",
        "\n",
        "## Top 10 tokens\n",
        "\n",
        "tok = []\n",
        "\n",
        "for doc in tokenizer.pipe(pre_df['description']):   # Tokenizer.pipe 파악하기\n",
        "    doc_tok = []\n",
        "\n",
        "    for token in doc:\n",
        "        if (token.text.lower() not in Stop_Words) & (token.text.lower() not in ['\\n', '\\n\\n']):\n",
        "        # if (token.is_stop == False) & (token.is_punct == False):\n",
        "            doc_tok.append(token.text.lower())\n",
        "    \n",
        "    tok.append(doc_tok)\n",
        "\n",
        "pre_df['added stop word tokens'] = tok\n",
        "pre_df['added stop word tokens'].head()\n",
        "\n",
        "sw_counts = Counter()\n",
        "\n",
        "pre_df['added stop word tokens'].apply(lambda x: sw_counts.update(x))  # -> lambda 좀 더 익숙해지기\n",
        "\n",
        "## Top 10 tokens\n",
        "sw_counts.most_common(10)\n"
      ]
    },
    {
      "cell_type": "markdown",
      "metadata": {
        "id": "f0iyh_gFnxVV"
      },
      "source": [
        "### 5) Lemmatization 사용 효과를 분석해 봅니다.\n",
        "\n"
      ]
    },
    {
      "cell_type": "markdown",
      "metadata": {
        "id": "zcBkXD0WTNgI"
      },
      "source": [
        "- **문항 6) Lemmatization을 진행한 뒤 상위 10개 단어를 입력하세요.**"
      ]
    },
    {
      "cell_type": "code",
      "execution_count": 14,
      "metadata": {
        "id": "O2cKokO8cXR5",
        "outputId": "82c95d3e-1d83-43e6-8202-70751507dd6a",
        "colab": {
          "base_uri": "https://localhost:8080/"
        }
      },
      "outputs": [
        {
          "output_type": "execute_result",
          "data": {
            "text/plain": [
              "[('experience', 3578),\n",
              " ('team', 2251),\n",
              " ('business', 2029),\n",
              " ('analysis', 1531),\n",
              " ('model', 1446),\n",
              " ('skill', 1205),\n",
              " ('product', 1196),\n",
              " ('include', 1178),\n",
              " ('develop', 1163),\n",
              " ('analytic', 1153)]"
            ]
          },
          "metadata": {},
          "execution_count": 14
        }
      ],
      "source": [
        "\n",
        "\n",
        "## Lemmatization (표제어 추출)\n",
        "\n",
        "def get_lemmas(text):\n",
        "    lemmas = []\n",
        "    l_doc = nlp(text)\n",
        "\n",
        "    for token in l_doc:\n",
        "        if (token.text.lower() not in Stop_Words\n",
        "            ) & (token.is_punct == False\n",
        "            ) & (token.text.lower() not in ['\\n', '\\n\\n']\n",
        "            ) & (token.pos_ != 'PRON'):  # Part-Of-Speech tag\n",
        "            lemmas.append(token.lemma_)   # .lower() 를 하고 안하고가 탑10 결과에 영향을 끼침!\n",
        "    return lemmas\n",
        "\n",
        "pre_df['lemmas'] = df['description'].apply(get_lemmas)\n",
        "pre_df['lemmas'].head\n",
        "\n",
        "lm_counts = Counter()\n",
        "\n",
        "pre_df['lemmas'].apply(lambda x: lm_counts.update(x))  # -> lambda 좀 더 익숙해지기\n",
        "\n",
        "## Top 10 tokens\n",
        "lm_counts.most_common(10)\n",
        "\n",
        "## .lower() 했을 경우 탑10\n",
        "#  [('experience', 3681),\n",
        "#  ('team', 2338),\n",
        "#  ('business', 2194),\n",
        "#  ('science', 1714),\n",
        "#  ('analysis', 1606),\n",
        "#  ('model', 1464),\n",
        "#  ('learning', 1330),\n",
        "#  ('product', 1298),\n",
        "#  ('machine', 1214),\n",
        "#  ('skill', 1212)]\n",
        "\n"
      ]
    },
    {
      "cell_type": "markdown",
      "metadata": {
        "id": "_uSNuY9UUl7P"
      },
      "source": [
        "## 2. 유사한 문서 찾기"
      ]
    },
    {
      "cell_type": "markdown",
      "metadata": {
        "id": "Spn3AFhIZBC9"
      },
      "source": [
        "### 1) `TfidfVectorizer`를 이용해 각 문서들을 벡터화 한 후 KNN 모델을 만들고, <br/> 내가 원하는 `job description`을 질의해 가장 가까운 검색 결과들을 가져오고 분석합니다."
      ]
    },
    {
      "cell_type": "markdown",
      "metadata": {
        "id": "WEtnD5gYZZ-c"
      },
      "source": [
        "- **문항 9) 88번 index의 `job description`와 5개의 가장 유사한 `job description`이 있는 index를 입력하세요.**\n",
        "    - 답은 88번 인덱스를 포함합니다.\n",
        "    - `max_features = 3000` 으로 설정합니다.\n",
        "    - [88, 90, 91, 93, 94] 형태로 답을 입력해주세요"
      ]
    },
    {
      "cell_type": "code",
      "source": [
        "\n",
        "\n",
        "from sklearn.feature_extraction.text import CountVectorizer, TfidfVectorizer\n",
        "\n",
        "pre_df['description'].iloc[88]\n",
        "pre_df.iloc[88]\n",
        "\n",
        "tfidf = TfidfVectorizer(stop_words='english', max_features=3000)\n",
        "\n",
        "dtm_tfidf = tfidf.fit_transform(pre_df['description'])\n",
        "\n",
        "dtm_tfidf = pd.DataFrame(dtm_tfidf.todense(), columns=tfidf.get_feature_names())\n",
        "\n",
        "dtm_tfidf.head()\n",
        "\n"
      ],
      "metadata": {
        "id": "wfO_OFTWy81m",
        "outputId": "b39a8f93-73f1-4fba-ab28-fb505e462c37",
        "colab": {
          "base_uri": "https://localhost:8080/",
          "height": 273
        }
      },
      "execution_count": 15,
      "outputs": [
        {
          "output_type": "stream",
          "name": "stderr",
          "text": [
            "/usr/local/lib/python3.7/dist-packages/sklearn/utils/deprecation.py:87: FutureWarning: Function get_feature_names is deprecated; get_feature_names is deprecated in 1.0 and will be removed in 1.2. Please use get_feature_names_out instead.\n",
            "  warnings.warn(msg, category=FutureWarning)\n"
          ]
        },
        {
          "output_type": "execute_result",
          "data": {
            "text/plain": [
              "    00       000       10       100   11   12   14   15   18   19  ...  \\\n",
              "0  0.0  0.000000  0.05272  0.000000  0.0  0.0  0.0  0.0  0.0  0.0  ...   \n",
              "1  0.0  0.000000  0.00000  0.000000  0.0  0.0  0.0  0.0  0.0  0.0  ...   \n",
              "2  0.0  0.000000  0.00000  0.000000  0.0  0.0  0.0  0.0  0.0  0.0  ...   \n",
              "3  0.0  0.033337  0.00000  0.035082  0.0  0.0  0.0  0.0  0.0  0.0  ...   \n",
              "4  0.0  0.000000  0.00000  0.000000  0.0  0.0  0.0  0.0  0.0  0.0  ...   \n",
              "\n",
              "   written  www      year     years  yelp  yes  york  yrs  zillow  zulily  \n",
              "0  0.00000  0.0  0.000000  0.023379   0.0  0.0   0.0  0.0     0.0     0.0  \n",
              "1  0.00000  0.0  0.000000  0.018485   0.0  0.0   0.0  0.0     0.0     0.0  \n",
              "2  0.05851  0.0  0.000000  0.017488   0.0  0.0   0.0  0.0     0.0     0.0  \n",
              "3  0.00000  0.0  0.060084  0.013012   0.0  0.0   0.0  0.0     0.0     0.0  \n",
              "4  0.00000  0.0  0.000000  0.047268   0.0  0.0   0.0  0.0     0.0     0.0  \n",
              "\n",
              "[5 rows x 3000 columns]"
            ],
            "text/html": [
              "\n",
              "  <div id=\"df-d0f2b069-f8cc-4b9f-8114-86ece56a06fe\">\n",
              "    <div class=\"colab-df-container\">\n",
              "      <div>\n",
              "<style scoped>\n",
              "    .dataframe tbody tr th:only-of-type {\n",
              "        vertical-align: middle;\n",
              "    }\n",
              "\n",
              "    .dataframe tbody tr th {\n",
              "        vertical-align: top;\n",
              "    }\n",
              "\n",
              "    .dataframe thead th {\n",
              "        text-align: right;\n",
              "    }\n",
              "</style>\n",
              "<table border=\"1\" class=\"dataframe\">\n",
              "  <thead>\n",
              "    <tr style=\"text-align: right;\">\n",
              "      <th></th>\n",
              "      <th>00</th>\n",
              "      <th>000</th>\n",
              "      <th>10</th>\n",
              "      <th>100</th>\n",
              "      <th>11</th>\n",
              "      <th>12</th>\n",
              "      <th>14</th>\n",
              "      <th>15</th>\n",
              "      <th>18</th>\n",
              "      <th>19</th>\n",
              "      <th>...</th>\n",
              "      <th>written</th>\n",
              "      <th>www</th>\n",
              "      <th>year</th>\n",
              "      <th>years</th>\n",
              "      <th>yelp</th>\n",
              "      <th>yes</th>\n",
              "      <th>york</th>\n",
              "      <th>yrs</th>\n",
              "      <th>zillow</th>\n",
              "      <th>zulily</th>\n",
              "    </tr>\n",
              "  </thead>\n",
              "  <tbody>\n",
              "    <tr>\n",
              "      <th>0</th>\n",
              "      <td>0.0</td>\n",
              "      <td>0.000000</td>\n",
              "      <td>0.05272</td>\n",
              "      <td>0.000000</td>\n",
              "      <td>0.0</td>\n",
              "      <td>0.0</td>\n",
              "      <td>0.0</td>\n",
              "      <td>0.0</td>\n",
              "      <td>0.0</td>\n",
              "      <td>0.0</td>\n",
              "      <td>...</td>\n",
              "      <td>0.00000</td>\n",
              "      <td>0.0</td>\n",
              "      <td>0.000000</td>\n",
              "      <td>0.023379</td>\n",
              "      <td>0.0</td>\n",
              "      <td>0.0</td>\n",
              "      <td>0.0</td>\n",
              "      <td>0.0</td>\n",
              "      <td>0.0</td>\n",
              "      <td>0.0</td>\n",
              "    </tr>\n",
              "    <tr>\n",
              "      <th>1</th>\n",
              "      <td>0.0</td>\n",
              "      <td>0.000000</td>\n",
              "      <td>0.00000</td>\n",
              "      <td>0.000000</td>\n",
              "      <td>0.0</td>\n",
              "      <td>0.0</td>\n",
              "      <td>0.0</td>\n",
              "      <td>0.0</td>\n",
              "      <td>0.0</td>\n",
              "      <td>0.0</td>\n",
              "      <td>...</td>\n",
              "      <td>0.00000</td>\n",
              "      <td>0.0</td>\n",
              "      <td>0.000000</td>\n",
              "      <td>0.018485</td>\n",
              "      <td>0.0</td>\n",
              "      <td>0.0</td>\n",
              "      <td>0.0</td>\n",
              "      <td>0.0</td>\n",
              "      <td>0.0</td>\n",
              "      <td>0.0</td>\n",
              "    </tr>\n",
              "    <tr>\n",
              "      <th>2</th>\n",
              "      <td>0.0</td>\n",
              "      <td>0.000000</td>\n",
              "      <td>0.00000</td>\n",
              "      <td>0.000000</td>\n",
              "      <td>0.0</td>\n",
              "      <td>0.0</td>\n",
              "      <td>0.0</td>\n",
              "      <td>0.0</td>\n",
              "      <td>0.0</td>\n",
              "      <td>0.0</td>\n",
              "      <td>...</td>\n",
              "      <td>0.05851</td>\n",
              "      <td>0.0</td>\n",
              "      <td>0.000000</td>\n",
              "      <td>0.017488</td>\n",
              "      <td>0.0</td>\n",
              "      <td>0.0</td>\n",
              "      <td>0.0</td>\n",
              "      <td>0.0</td>\n",
              "      <td>0.0</td>\n",
              "      <td>0.0</td>\n",
              "    </tr>\n",
              "    <tr>\n",
              "      <th>3</th>\n",
              "      <td>0.0</td>\n",
              "      <td>0.033337</td>\n",
              "      <td>0.00000</td>\n",
              "      <td>0.035082</td>\n",
              "      <td>0.0</td>\n",
              "      <td>0.0</td>\n",
              "      <td>0.0</td>\n",
              "      <td>0.0</td>\n",
              "      <td>0.0</td>\n",
              "      <td>0.0</td>\n",
              "      <td>...</td>\n",
              "      <td>0.00000</td>\n",
              "      <td>0.0</td>\n",
              "      <td>0.060084</td>\n",
              "      <td>0.013012</td>\n",
              "      <td>0.0</td>\n",
              "      <td>0.0</td>\n",
              "      <td>0.0</td>\n",
              "      <td>0.0</td>\n",
              "      <td>0.0</td>\n",
              "      <td>0.0</td>\n",
              "    </tr>\n",
              "    <tr>\n",
              "      <th>4</th>\n",
              "      <td>0.0</td>\n",
              "      <td>0.000000</td>\n",
              "      <td>0.00000</td>\n",
              "      <td>0.000000</td>\n",
              "      <td>0.0</td>\n",
              "      <td>0.0</td>\n",
              "      <td>0.0</td>\n",
              "      <td>0.0</td>\n",
              "      <td>0.0</td>\n",
              "      <td>0.0</td>\n",
              "      <td>...</td>\n",
              "      <td>0.00000</td>\n",
              "      <td>0.0</td>\n",
              "      <td>0.000000</td>\n",
              "      <td>0.047268</td>\n",
              "      <td>0.0</td>\n",
              "      <td>0.0</td>\n",
              "      <td>0.0</td>\n",
              "      <td>0.0</td>\n",
              "      <td>0.0</td>\n",
              "      <td>0.0</td>\n",
              "    </tr>\n",
              "  </tbody>\n",
              "</table>\n",
              "<p>5 rows × 3000 columns</p>\n",
              "</div>\n",
              "      <button class=\"colab-df-convert\" onclick=\"convertToInteractive('df-d0f2b069-f8cc-4b9f-8114-86ece56a06fe')\"\n",
              "              title=\"Convert this dataframe to an interactive table.\"\n",
              "              style=\"display:none;\">\n",
              "        \n",
              "  <svg xmlns=\"http://www.w3.org/2000/svg\" height=\"24px\"viewBox=\"0 0 24 24\"\n",
              "       width=\"24px\">\n",
              "    <path d=\"M0 0h24v24H0V0z\" fill=\"none\"/>\n",
              "    <path d=\"M18.56 5.44l.94 2.06.94-2.06 2.06-.94-2.06-.94-.94-2.06-.94 2.06-2.06.94zm-11 1L8.5 8.5l.94-2.06 2.06-.94-2.06-.94L8.5 2.5l-.94 2.06-2.06.94zm10 10l.94 2.06.94-2.06 2.06-.94-2.06-.94-.94-2.06-.94 2.06-2.06.94z\"/><path d=\"M17.41 7.96l-1.37-1.37c-.4-.4-.92-.59-1.43-.59-.52 0-1.04.2-1.43.59L10.3 9.45l-7.72 7.72c-.78.78-.78 2.05 0 2.83L4 21.41c.39.39.9.59 1.41.59.51 0 1.02-.2 1.41-.59l7.78-7.78 2.81-2.81c.8-.78.8-2.07 0-2.86zM5.41 20L4 18.59l7.72-7.72 1.47 1.35L5.41 20z\"/>\n",
              "  </svg>\n",
              "      </button>\n",
              "      \n",
              "  <style>\n",
              "    .colab-df-container {\n",
              "      display:flex;\n",
              "      flex-wrap:wrap;\n",
              "      gap: 12px;\n",
              "    }\n",
              "\n",
              "    .colab-df-convert {\n",
              "      background-color: #E8F0FE;\n",
              "      border: none;\n",
              "      border-radius: 50%;\n",
              "      cursor: pointer;\n",
              "      display: none;\n",
              "      fill: #1967D2;\n",
              "      height: 32px;\n",
              "      padding: 0 0 0 0;\n",
              "      width: 32px;\n",
              "    }\n",
              "\n",
              "    .colab-df-convert:hover {\n",
              "      background-color: #E2EBFA;\n",
              "      box-shadow: 0px 1px 2px rgba(60, 64, 67, 0.3), 0px 1px 3px 1px rgba(60, 64, 67, 0.15);\n",
              "      fill: #174EA6;\n",
              "    }\n",
              "\n",
              "    [theme=dark] .colab-df-convert {\n",
              "      background-color: #3B4455;\n",
              "      fill: #D2E3FC;\n",
              "    }\n",
              "\n",
              "    [theme=dark] .colab-df-convert:hover {\n",
              "      background-color: #434B5C;\n",
              "      box-shadow: 0px 1px 3px 1px rgba(0, 0, 0, 0.15);\n",
              "      filter: drop-shadow(0px 1px 2px rgba(0, 0, 0, 0.3));\n",
              "      fill: #FFFFFF;\n",
              "    }\n",
              "  </style>\n",
              "\n",
              "      <script>\n",
              "        const buttonEl =\n",
              "          document.querySelector('#df-d0f2b069-f8cc-4b9f-8114-86ece56a06fe button.colab-df-convert');\n",
              "        buttonEl.style.display =\n",
              "          google.colab.kernel.accessAllowed ? 'block' : 'none';\n",
              "\n",
              "        async function convertToInteractive(key) {\n",
              "          const element = document.querySelector('#df-d0f2b069-f8cc-4b9f-8114-86ece56a06fe');\n",
              "          const dataTable =\n",
              "            await google.colab.kernel.invokeFunction('convertToInteractive',\n",
              "                                                     [key], {});\n",
              "          if (!dataTable) return;\n",
              "\n",
              "          const docLinkHtml = 'Like what you see? Visit the ' +\n",
              "            '<a target=\"_blank\" href=https://colab.research.google.com/notebooks/data_table.ipynb>data table notebook</a>'\n",
              "            + ' to learn more about interactive tables.';\n",
              "          element.innerHTML = '';\n",
              "          dataTable['output_type'] = 'display_data';\n",
              "          await google.colab.output.renderOutput(dataTable, element);\n",
              "          const docLink = document.createElement('div');\n",
              "          docLink.innerHTML = docLinkHtml;\n",
              "          element.appendChild(docLink);\n",
              "        }\n",
              "      </script>\n",
              "    </div>\n",
              "  </div>\n",
              "  "
            ]
          },
          "metadata": {},
          "execution_count": 15
        }
      ]
    },
    {
      "cell_type": "code",
      "source": [
        "from sklearn.neighbors import NearestNeighbors\n",
        "\n",
        "nn = NearestNeighbors(n_neighbors=5, algorithm='kd_tree')\n",
        "nn.fit(dtm_tfidf)\n",
        "\n",
        "nn.kneighbors([dtm_tfidf.iloc[88]])"
      ],
      "metadata": {
        "id": "PhZ9kP2CzEJH",
        "outputId": "cb54cc53-7150-4ebf-fd13-7cfad25dd1a3",
        "colab": {
          "base_uri": "https://localhost:8080/"
        }
      },
      "execution_count": 16,
      "outputs": [
        {
          "output_type": "stream",
          "name": "stderr",
          "text": [
            "/usr/local/lib/python3.7/dist-packages/sklearn/base.py:451: UserWarning: X does not have valid feature names, but NearestNeighbors was fitted with feature names\n",
            "  \"X does not have valid feature names, but\"\n"
          ]
        },
        {
          "output_type": "execute_result",
          "data": {
            "text/plain": [
              "(array([[0.        , 1.1283426 , 1.18893646, 1.19442548, 1.19937307]]),\n",
              " array([[ 88,  40, 121,  68, 680]]))"
            ]
          },
          "metadata": {},
          "execution_count": 16
        }
      ]
    },
    {
      "cell_type": "markdown",
      "metadata": {
        "id": "L_vYQdqZmoZ1"
      },
      "source": [
        "## 3. TF-IDF 이용한 텍스트 분류 진행하기"
      ]
    },
    {
      "cell_type": "markdown",
      "metadata": {
        "id": "YwOHlhOGmoZ2"
      },
      "source": [
        "TF-IDF를 이용해 문장 혹은 문서를 벡터화한 경우, 이 벡터값을 이용해 문서 분류 태스크를 진행할 수 있습니다. \n",
        "\n",
        "현재 다루고 있는 데이터셋에는 label이 존재하지 않으므로, title 컬럼에 \"Senior\"가 있는지 없는지 여부를 통해 Senior 직무 여부를 분류하는 작업을 진행해보겠습니다."
      ]
    },
    {
      "cell_type": "markdown",
      "metadata": {
        "id": "QdBkjWHImoZ2"
      },
      "source": [
        "### 1) title 컬럼에 \"Senior\" 문자열이 있으면 1, 없으면 0인 \"Senior\"라는 새로운 컬럼을 생성해주세요."
      ]
    },
    {
      "cell_type": "markdown",
      "metadata": {
        "id": "VvuOyU27moZ2"
      },
      "source": [
        "문항 7) 새롭게 만든 Senior 컬럼에서 값이 1인 (Senior O) 데이터의 개수는?"
      ]
    },
    {
      "cell_type": "code",
      "execution_count": 17,
      "metadata": {
        "id": "Dx4Ao70tmoZ2",
        "outputId": "c0318da4-a518-470b-fdaf-5196b876e7f5",
        "colab": {
          "base_uri": "https://localhost:8080/"
        }
      },
      "outputs": [
        {
          "output_type": "stream",
          "name": "stdout",
          "text": [
            "              precision    recall  f1-score   support\n",
            "\n",
            "           0       0.93      0.84      0.88        68\n",
            "           1       0.27      0.50      0.35         8\n",
            "\n",
            "    accuracy                           0.80        76\n",
            "   macro avg       0.60      0.67      0.62        76\n",
            "weighted avg       0.86      0.80      0.83        76\n",
            "\n"
          ]
        }
      ],
      "source": [
        "\n",
        "\n",
        "pre_df['senior'] = pre_df['title'].apply(lambda x: 1 if 'Senior' in x else 0)\n",
        "pre_df.head()\n",
        "\n",
        "pre_df['senior'].value_counts()\n",
        "\n",
        "\n",
        "\n",
        "from sklearn.model_selection import train_test_split\n",
        "from sklearn.tree import DecisionTreeClassifier\n",
        "from sklearn.metrics import classification_report\n",
        "\n",
        "x = dtm_tfidf\n",
        "x_train, x_val, y_train, y_val = train_test_split(x, pre_df['senior'],test_size = 0.1, train_size=0.9, random_state=42)\n",
        "\n",
        "model = DecisionTreeClassifier(random_state=42)\n",
        "model.fit(x_train, y_train)\n",
        "y_pred = model.predict(x_val)\n",
        "\n",
        "print(classification_report(y_val, y_pred))"
      ]
    },
    {
      "cell_type": "markdown",
      "metadata": {
        "id": "e28_Sr0hmoZ3"
      },
      "source": [
        "문항 8) sklearn의 `train_test_split`을 통해 train 데이터와 valid 데이터로 나눈 후, `sklearn`의 `DecisionTreeClassifier`를 이용해 분류를 진행해주세요. \n",
        "\n",
        "단, x값은 위에서 학습한 dtm_tfidf를 그대로 이용해주세요. train_test_split과 DecisionTreeClassifier의 random_state을 42로 고정하고, test_size는 0.1로 설정해주세요.\n",
        "\n",
        "학습을 완료한 후, test 데이터에 대한 예측을 진행하고 label 1에 대한 precision과 recall 값을 적어주세요"
      ]
    },
    {
      "cell_type": "code",
      "execution_count": 18,
      "metadata": {
        "id": "PHCATtY8cX5b",
        "outputId": "78147db7-5439-4b8f-f160-3ed957dad6b9",
        "colab": {
          "base_uri": "https://localhost:8080/"
        }
      },
      "outputs": [
        {
          "output_type": "execute_result",
          "data": {
            "text/plain": [
              "(array([0.93442623, 0.26666667]),\n",
              " array([0.83823529, 0.5       ]),\n",
              " array([0.88372093, 0.34782609]),\n",
              " array([68,  8]))"
            ]
          },
          "metadata": {},
          "execution_count": 18
        }
      ],
      "source": [
        "\n",
        "\n",
        "from sklearn.metrics import precision_recall_fscore_support\n",
        "\n",
        "precision_recall_fscore_support(y_val, y_pred)\n",
        "\n"
      ]
    }
  ],
  "metadata": {
    "colab": {
      "collapsed_sections": [],
      "name": "N421a_Count-based_Representation.ipynb",
      "provenance": []
    },
    "kernelspec": {
      "display_name": "Python 3 (ipykernel)",
      "language": "python",
      "name": "python3"
    },
    "language_info": {
      "codemirror_mode": {
        "name": "ipython",
        "version": 3
      },
      "file_extension": ".py",
      "mimetype": "text/x-python",
      "name": "python",
      "nbconvert_exporter": "python",
      "pygments_lexer": "ipython3",
      "version": "3.8.10"
    },
    "toc-autonumbering": false
  },
  "nbformat": 4,
  "nbformat_minor": 0
}